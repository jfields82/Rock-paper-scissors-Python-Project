{
 "cells": [
  {
   "cell_type": "code",
   "execution_count": 1,
   "metadata": {},
   "outputs": [
    {
     "name": "stdout",
     "output_type": "stream",
     "text": [
      "You Lost\n"
     ]
    }
   ],
   "source": [
    "import random\n",
    "\n",
    "def play():\n",
    "\tuser = input(\"The user type 'r' rock, 's' scissors or 'p' paper:\\n \") \n",
    "\tcomputer = random.choice(['r', 'p', 's'])\n",
    "\n",
    "\tif user == computer:\n",
    "\t\treturn 'It\\'s a tie'\n",
    "\n",
    "\t# r > s, s > p, p < r\n",
    "\tif is_win(user, computer):\n",
    "\t\treturn 'You Won!'\n",
    "\n",
    "\treturn 'You Lost'\n",
    "\n",
    "def is_win(player, opponent):\n",
    "\t# return true if player wins\n",
    "\t# r > s, s > p, p > r\n",
    "\tif (player == 'r' and opponent == 's') or (player == 's' and opponent == 'p') \\\n",
    "\t\tor (player == 'p' and opponent == 'r'):\n",
    "\t\treturn True\n",
    "\n",
    "print(play())\n"
   ]
  }
 ],
 "metadata": {
  "kernelspec": {
   "display_name": "Python 3.10.1 64-bit",
   "language": "python",
   "name": "python3"
  },
  "language_info": {
   "codemirror_mode": {
    "name": "ipython",
    "version": 3
   },
   "file_extension": ".py",
   "mimetype": "text/x-python",
   "name": "python",
   "nbconvert_exporter": "python",
   "pygments_lexer": "ipython3",
   "version": "3.10.1"
  },
  "orig_nbformat": 4,
  "vscode": {
   "interpreter": {
    "hash": "831cb5e6ea41fcc0907f9e2eb0bfd053622766b2f51aab8ab41a429e17d6908f"
   }
  }
 },
 "nbformat": 4,
 "nbformat_minor": 2
}
